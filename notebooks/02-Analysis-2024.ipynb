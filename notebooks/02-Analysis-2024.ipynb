{
 "cells": [
  {
   "cell_type": "markdown",
   "id": "a2f21cd1",
   "metadata": {},
   "source": [
    "# Análise de dados dos jogos do Flamengo 2024"
   ]
  },
  {
   "cell_type": "code",
   "execution_count": null,
   "id": "67bd2241",
   "metadata": {},
   "outputs": [],
   "source": [
    "# Carregando algumas bibliotecas importantes\n",
    "import numpy as np\n",
    "import pandas as pd\n",
    "import matplotlib.pyplot as plt\n",
    "import matplotlib.patches as mpatches\n",
    "import seaborn as sns    "
   ]
  }
 ],
 "metadata": {
  "kernelspec": {
   "display_name": "Python 3 (ipykernel)",
   "language": "python",
   "name": "python3"
  },
  "language_info": {
   "codemirror_mode": {
    "name": "ipython",
    "version": 3
   },
   "file_extension": ".py",
   "mimetype": "text/x-python",
   "name": "python",
   "nbconvert_exporter": "python",
   "pygments_lexer": "ipython3",
   "version": "3.8.17"
  }
 },
 "nbformat": 4,
 "nbformat_minor": 5
}
