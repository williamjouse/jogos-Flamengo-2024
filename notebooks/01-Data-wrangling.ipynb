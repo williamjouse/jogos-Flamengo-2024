{
 "cells": [
  {
   "cell_type": "code",
   "execution_count": 1,
   "id": "df770cca",
   "metadata": {},
   "outputs": [],
   "source": [
    "# Carregando algumas bibliotecas importantes\n",
    "import numpy as np\n",
    "import pandas as pd"
   ]
  },
  {
   "cell_type": "code",
   "execution_count": 7,
   "id": "e56f2835",
   "metadata": {},
   "outputs": [],
   "source": [
    "# Importando os arquivos\n",
    "jogos = pd.read_csv('../data/matches_FLA2024.csv', parse_dates=['kick-off'])\n",
    "gols = pd.read_csv('../data/goal_scorers_2024.csv')"
   ]
  },
  {
   "cell_type": "code",
   "execution_count": 8,
   "id": "041c5e4f",
   "metadata": {},
   "outputs": [],
   "source": [
    "class DataInfo:\n",
    "    def __init__(self,df):\n",
    "        self.df = df\n",
    "\n",
    "    def info(self): \n",
    "        \n",
    "        # Counting no of rows \n",
    "        print(f'\\nTotal Rows : {self.df.shape[0]} \\n' + '--'*10 )\n",
    "      \n",
    "        # Counting no of columns\n",
    "        print(f'\\nTotal Columns : {self.df.shape[1]} \\n' + '--'*10)\n",
    "        \n",
    "        # Extracting column names\n",
    "        column_name =  self.df.columns \n",
    "        print(f'\\nColumn Names\\n' + '--'*10 +  f'\\n{column_name} \\n \\n')\n",
    "        \n",
    "        # Data type info\n",
    "        print(f'Data Summary\\n' + '--'*10)\n",
    "        data_summary = self.df.info() \n",
    "        \n",
    "        # Total null values by each categories\n",
    "        null_values = self.df.isnull().sum() \n",
    "        print(f'\\nNull values\\n' + '--'*10 + f'\\n{null_values} \\n \\n')\n",
    "\n",
    "        # Descriptive statistics\n",
    "        describe =  self.df.describe() \n",
    "        print(f'\\nDescriptive Statistics\\n' + '--'*10 +  f'\\n{describe} \\n \\n')"
   ]
  },
  {
   "cell_type": "code",
   "execution_count": 9,
   "id": "03778e13",
   "metadata": {},
   "outputs": [
    {
     "name": "stdout",
     "output_type": "stream",
     "text": [
      "\n",
      "Total Rows : 8 \n",
      "--------------------\n",
      "\n",
      "Total Columns : 9 \n",
      "--------------------\n",
      "\n",
      "Column Names\n",
      "--------------------\n",
      "Index(['id_match', 'home_team', 'away_team', 'home_score', 'away_score',\n",
      "       'tournament', 'kick-off', 'stadium', 'attendance'],\n",
      "      dtype='object') \n",
      " \n",
      "\n",
      "Data Summary\n",
      "--------------------\n",
      "<class 'pandas.core.frame.DataFrame'>\n",
      "RangeIndex: 8 entries, 0 to 7\n",
      "Data columns (total 9 columns):\n",
      " #   Column      Non-Null Count  Dtype         \n",
      "---  ------      --------------  -----         \n",
      " 0   id_match    8 non-null      object        \n",
      " 1   home_team   8 non-null      object        \n",
      " 2   away_team   8 non-null      object        \n",
      " 3   home_score  8 non-null      int64         \n",
      " 4   away_score  8 non-null      int64         \n",
      " 5   tournament  8 non-null      object        \n",
      " 6   kick-off    8 non-null      datetime64[ns]\n",
      " 7   stadium     8 non-null      object        \n",
      " 8   attendance  8 non-null      int64         \n",
      "dtypes: datetime64[ns](1), int64(3), object(5)\n",
      "memory usage: 704.0+ bytes\n",
      "\n",
      "Null values\n",
      "--------------------\n",
      "id_match      0\n",
      "home_team     0\n",
      "away_team     0\n",
      "home_score    0\n",
      "away_score    0\n",
      "tournament    0\n",
      "kick-off      0\n",
      "stadium       0\n",
      "attendance    0\n",
      "dtype: int64 \n",
      " \n",
      "\n",
      "\n",
      "Descriptive Statistics\n",
      "--------------------\n",
      "       home_score  away_score    attendance\n",
      "count    8.000000    8.000000      8.000000\n",
      "mean     0.875000    0.750000  33296.500000\n",
      "std      1.356203    0.886405  17632.959836\n",
      "min      0.000000    0.000000   7227.000000\n",
      "25%      0.000000    0.000000  21115.500000\n",
      "50%      0.500000    0.500000  34639.500000\n",
      "75%      1.000000    1.250000  47009.500000\n",
      "max      4.000000    2.000000  56318.000000 \n",
      " \n",
      "\n"
     ]
    }
   ],
   "source": [
    "train_obj =DataInfo(jogos)\n",
    "train_obj.info()"
   ]
  },
  {
   "cell_type": "code",
   "execution_count": null,
   "id": "c41513aa",
   "metadata": {},
   "outputs": [],
   "source": []
  }
 ],
 "metadata": {
  "kernelspec": {
   "display_name": "Python 3 (ipykernel)",
   "language": "python",
   "name": "python3"
  },
  "language_info": {
   "codemirror_mode": {
    "name": "ipython",
    "version": 3
   },
   "file_extension": ".py",
   "mimetype": "text/x-python",
   "name": "python",
   "nbconvert_exporter": "python",
   "pygments_lexer": "ipython3",
   "version": "3.8.17"
  }
 },
 "nbformat": 4,
 "nbformat_minor": 5
}
