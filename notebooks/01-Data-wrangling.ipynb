{
 "cells": [
  {
   "cell_type": "code",
   "execution_count": null,
   "id": "df770cca",
   "metadata": {},
   "outputs": [],
   "source": [
    "# Carregando algumas bibliotecas importantes\n",
    "import numpy as np\n",
    "import pandas as pd"
   ]
  },
  {
   "cell_type": "code",
   "execution_count": null,
   "id": "e56f2835",
   "metadata": {},
   "outputs": [],
   "source": [
    "# Importando os arquivos\n",
    "jogos = pd.read_csv('../data/matches_FLA2024.csv', parse_dates=['kick-off'])\n",
    "gols = pd.read_csv('../data/goal_scorers-2024.csv')"
   ]
  }
 ],
 "metadata": {
  "kernelspec": {
   "display_name": "Python 3 (ipykernel)",
   "language": "python",
   "name": "python3"
  },
  "language_info": {
   "codemirror_mode": {
    "name": "ipython",
    "version": 3
   },
   "file_extension": ".py",
   "mimetype": "text/x-python",
   "name": "python",
   "nbconvert_exporter": "python",
   "pygments_lexer": "ipython3",
   "version": "3.8.17"
  }
 },
 "nbformat": 4,
 "nbformat_minor": 5
}
